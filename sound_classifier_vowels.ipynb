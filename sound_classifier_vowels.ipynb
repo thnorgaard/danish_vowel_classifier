{
 "cells": [
  {
   "cell_type": "markdown",
   "id": "ddbc43d7-826e-4d2e-be96-1deef693eb67",
   "metadata": {
    "tags": []
   },
   "source": [
    "## Vowel classifier version 0.1\n",
    "\n",
    "Following the guide of https://www.youtube.com/watch?v=ZLIPkmmDJAc&ab_channel=NicholasRenotte \n"
   ]
  },
  {
   "cell_type": "code",
   "execution_count": 5,
   "id": "ad1f897c-ccf7-4a91-bc7a-f72fa0494bc9",
   "metadata": {
    "execution": {
     "iopub.execute_input": "2022-05-22T15:09:12.924958Z",
     "iopub.status.busy": "2022-05-22T15:09:12.924584Z",
     "iopub.status.idle": "2022-05-22T15:10:33.859148Z",
     "shell.execute_reply": "2022-05-22T15:10:33.857082Z",
     "shell.execute_reply.started": "2022-05-22T15:09:12.924917Z"
    },
    "tags": []
   },
   "outputs": [
    {
     "name": "stdout",
     "output_type": "stream",
     "text": [
      "Collecting tensorflow\n",
      "  Downloading tensorflow-2.9.0-cp39-cp39-manylinux_2_17_x86_64.manylinux2014_x86_64.whl (511.7 MB)\n",
      "\u001b[2K     \u001b[90m━━━━━━━━━━━━━━━━━━━━━━━━━━━━━━━━━━━━━━━\u001b[0m \u001b[32m511.7/511.7 MB\u001b[0m \u001b[31m6.8 MB/s\u001b[0m eta \u001b[36m0:00:00\u001b[0m00:01\u001b[0m00:01\u001b[0m\n",
      "\u001b[?25hCollecting tensorflow-gpu\n",
      "\u001b[33m  WARNING: Retrying (Retry(total=4, connect=None, read=None, redirect=None, status=None)) after connection broken by 'ReadTimeoutError(\"HTTPSConnectionPool(host='files.pythonhosted.org', port=443): Read timed out. (read timeout=15)\")': /packages/39/75/86d5a6e949ab077f4280bd6429d7fd3437387fdb51529eb694154fdaa784/tensorflow_gpu-2.9.0-cp39-cp39-manylinux_2_17_x86_64.manylinux2014_x86_64.whl\u001b[0m\u001b[33m\n",
      "\u001b[0m  Downloading tensorflow_gpu-2.9.0-cp39-cp39-manylinux_2_17_x86_64.manylinux2014_x86_64.whl (511.7 MB)\n",
      "\u001b[2K     \u001b[90m━━━━━━━━━━━━━━━━━━━━━━━━━━━━━━━━━━━━━━━\u001b[0m \u001b[32m511.7/511.7 MB\u001b[0m \u001b[31m6.7 MB/s\u001b[0m eta \u001b[36m0:00:00\u001b[0m00:01\u001b[0m00:01\u001b[0m\n",
      "\u001b[?25hCollecting tensorflow-io\n",
      "  Downloading tensorflow_io-0.26.0-cp39-cp39-manylinux_2_12_x86_64.manylinux2010_x86_64.whl (25.9 MB)\n",
      "\u001b[2K     \u001b[90m━━━━━━━━━━━━━━━━━━━━━━━━━━━━━━━━━━━━━━━━\u001b[0m \u001b[32m25.9/25.9 MB\u001b[0m \u001b[31m21.6 MB/s\u001b[0m eta \u001b[36m0:00:00\u001b[0m00:01\u001b[0m00:01\u001b[0m\n",
      "\u001b[?25hRequirement already satisfied: matplotlib in /opt/conda/lib/python3.9/site-packages (3.5.1)\n",
      "Collecting keras-preprocessing>=1.1.1\n",
      "  Downloading Keras_Preprocessing-1.1.2-py2.py3-none-any.whl (42 kB)\n",
      "\u001b[2K     \u001b[90m━━━━━━━━━━━━━━━━━━━━━━━━━━━━━━━━━━━━━━━\u001b[0m \u001b[32m42.6/42.6 KB\u001b[0m \u001b[31m693.4 kB/s\u001b[0m eta \u001b[36m0:00:00\u001b[0ma \u001b[36m0:00:01\u001b[0m\n",
      "\u001b[?25hCollecting opt-einsum>=2.3.2\n",
      "  Downloading opt_einsum-3.3.0-py3-none-any.whl (65 kB)\n",
      "\u001b[2K     \u001b[90m━━━━━━━━━━━━━━━━━━━━━━━━━━━━━━━━━━━━━━━\u001b[0m \u001b[32m65.5/65.5 KB\u001b[0m \u001b[31m419.4 kB/s\u001b[0m eta \u001b[36m0:00:00\u001b[0ma \u001b[36m0:00:01\u001b[0m\n",
      "\u001b[?25hCollecting libclang>=13.0.0\n",
      "  Downloading libclang-14.0.1-py2.py3-none-manylinux1_x86_64.whl (14.5 MB)\n",
      "\u001b[2K     \u001b[90m━━━━━━━━━━━━━━━━━━━━━━━━━━━━━━━━━━━━━━━━\u001b[0m \u001b[32m14.5/14.5 MB\u001b[0m \u001b[31m36.5 MB/s\u001b[0m eta \u001b[36m0:00:00\u001b[0m00:01\u001b[0m00:01\u001b[0m\n",
      "\u001b[?25hRequirement already satisfied: setuptools in /opt/conda/lib/python3.9/site-packages (from tensorflow) (61.2.0)\n",
      "Collecting tensorflow-estimator<2.10.0,>=2.9.0rc0\n",
      "  Downloading tensorflow_estimator-2.9.0-py2.py3-none-any.whl (438 kB)\n",
      "\u001b[2K     \u001b[90m━━━━━━━━━━━━━━━━━━━━━━━━━━━━━━━━━━━━━━\u001b[0m \u001b[32m438.7/438.7 KB\u001b[0m \u001b[31m17.3 MB/s\u001b[0m eta \u001b[36m0:00:00\u001b[0m\n",
      "\u001b[?25hCollecting tensorflow-io-gcs-filesystem>=0.23.1\n",
      "  Downloading tensorflow_io_gcs_filesystem-0.26.0-cp39-cp39-manylinux_2_12_x86_64.manylinux2010_x86_64.whl (2.4 MB)\n",
      "\u001b[2K     \u001b[90m━━━━━━━━━━━━━━━━━━━━━━━━━━━━━━━━━━━━━━━━\u001b[0m \u001b[32m2.4/2.4 MB\u001b[0m \u001b[31m12.3 MB/s\u001b[0m eta \u001b[36m0:00:00\u001b[0m:00:01\u001b[0m\n",
      "\u001b[?25hRequirement already satisfied: protobuf>=3.9.2 in /opt/conda/lib/python3.9/site-packages (from tensorflow) (3.19.4)\n",
      "Collecting termcolor>=1.1.0\n",
      "  Downloading termcolor-1.1.0.tar.gz (3.9 kB)\n",
      "  Preparing metadata (setup.py) ... \u001b[?25ldone\n",
      "\u001b[?25hCollecting grpcio<2.0,>=1.24.3\n",
      "  Downloading grpcio-1.46.3-cp39-cp39-manylinux_2_17_x86_64.manylinux2014_x86_64.whl (4.4 MB)\n",
      "\u001b[2K     \u001b[90m━━━━━━━━━━━━━━━━━━━━━━━━━━━━━━━━━━━━━━━━\u001b[0m \u001b[32m4.4/4.4 MB\u001b[0m \u001b[31m33.8 MB/s\u001b[0m eta \u001b[36m0:00:00\u001b[0m:00:01\u001b[0m\n",
      "\u001b[?25hCollecting wrapt>=1.11.0\n",
      "  Downloading wrapt-1.14.1-cp39-cp39-manylinux_2_5_x86_64.manylinux1_x86_64.manylinux_2_17_x86_64.manylinux2014_x86_64.whl (77 kB)\n",
      "\u001b[2K     \u001b[90m━━━━━━━━━━━━━━━━━━━━━━━━━━━━━━━━━━━━━━━━\u001b[0m \u001b[32m77.8/77.8 KB\u001b[0m \u001b[31m1.0 MB/s\u001b[0m eta \u001b[36m0:00:00\u001b[0mta \u001b[36m0:00:01\u001b[0m\n",
      "\u001b[?25hCollecting absl-py>=1.0.0\n",
      "  Downloading absl_py-1.0.0-py3-none-any.whl (126 kB)\n",
      "\u001b[2K     \u001b[90m━━━━━━━━━━━━━━━━━━━━━━━━━━━━━━━━━━━━━━━\u001b[0m \u001b[32m126.7/126.7 KB\u001b[0m \u001b[31m2.4 MB/s\u001b[0m eta \u001b[36m0:00:00\u001b[0ma \u001b[36m0:00:01\u001b[0m\n",
      "\u001b[?25hCollecting keras<2.10.0,>=2.9.0rc0\n",
      "  Downloading keras-2.9.0-py2.py3-none-any.whl (1.6 MB)\n",
      "\u001b[2K     \u001b[90m━━━━━━━━━━━━━━━━━━━━━━━━━━━━━━━━━━━━━━━━\u001b[0m \u001b[32m1.6/1.6 MB\u001b[0m \u001b[31m21.7 MB/s\u001b[0m eta \u001b[36m0:00:00\u001b[0m:00:01\u001b[0m\n",
      "\u001b[?25hRequirement already satisfied: typing-extensions>=3.6.6 in /opt/conda/lib/python3.9/site-packages (from tensorflow) (4.1.1)\n",
      "Collecting gast<=0.4.0,>=0.2.1\n",
      "  Downloading gast-0.4.0-py3-none-any.whl (9.8 kB)\n",
      "Requirement already satisfied: six>=1.12.0 in /opt/conda/lib/python3.9/site-packages (from tensorflow) (1.16.0)\n",
      "Requirement already satisfied: packaging in /opt/conda/lib/python3.9/site-packages (from tensorflow) (21.3)\n",
      "Requirement already satisfied: numpy>=1.20 in /opt/conda/lib/python3.9/site-packages (from tensorflow) (1.22.3)\n",
      "Collecting astunparse>=1.6.0\n",
      "  Downloading astunparse-1.6.3-py2.py3-none-any.whl (12 kB)\n",
      "Collecting h5py>=2.9.0\n",
      "  Downloading h5py-3.6.0-cp39-cp39-manylinux_2_12_x86_64.manylinux2010_x86_64.whl (4.5 MB)\n",
      "\u001b[2K     \u001b[90m━━━━━━━━━━━━━━━━━━━━━━━━━━━━━━━━━━━━━━━━\u001b[0m \u001b[32m4.5/4.5 MB\u001b[0m \u001b[31m20.8 MB/s\u001b[0m eta \u001b[36m0:00:00\u001b[0m:00:01\u001b[0m\n",
      "\u001b[?25hCollecting flatbuffers<2,>=1.12\n",
      "  Downloading flatbuffers-1.12-py2.py3-none-any.whl (15 kB)\n",
      "Collecting tensorboard<2.10,>=2.9\n",
      "  Downloading tensorboard-2.9.0-py3-none-any.whl (5.8 MB)\n",
      "\u001b[2K     \u001b[90m━━━━━━━━━━━━━━━━━━━━━━━━━━━━━━━━━━━━━━━━\u001b[0m \u001b[32m5.8/5.8 MB\u001b[0m \u001b[31m39.9 MB/s\u001b[0m eta \u001b[36m0:00:00\u001b[0m:00:01\u001b[0m\n",
      "\u001b[?25hCollecting google-pasta>=0.1.1\n",
      "  Downloading google_pasta-0.2.0-py3-none-any.whl (57 kB)\n",
      "\u001b[2K     \u001b[90m━━━━━━━━━━━━━━━━━━━━━━━━━━━━━━━━━━━━━━━━\u001b[0m \u001b[32m57.5/57.5 KB\u001b[0m \u001b[31m3.0 MB/s\u001b[0m eta \u001b[36m0:00:00\u001b[0m\n",
      "\u001b[?25hRequirement already satisfied: python-dateutil>=2.7 in /opt/conda/lib/python3.9/site-packages (from matplotlib) (2.8.2)\n",
      "Requirement already satisfied: kiwisolver>=1.0.1 in /opt/conda/lib/python3.9/site-packages (from matplotlib) (1.4.2)\n",
      "Requirement already satisfied: cycler>=0.10 in /opt/conda/lib/python3.9/site-packages (from matplotlib) (0.11.0)\n",
      "Requirement already satisfied: pyparsing>=2.2.1 in /opt/conda/lib/python3.9/site-packages (from matplotlib) (3.0.7)\n",
      "Requirement already satisfied: pillow>=6.2.0 in /opt/conda/lib/python3.9/site-packages (from matplotlib) (9.0.1)\n",
      "Requirement already satisfied: fonttools>=4.22.0 in /opt/conda/lib/python3.9/site-packages (from matplotlib) (4.31.2)\n",
      "Requirement already satisfied: wheel<1.0,>=0.23.0 in /opt/conda/lib/python3.9/site-packages (from astunparse>=1.6.0->tensorflow) (0.37.1)\n",
      "Collecting google-auth<3,>=1.6.3\n",
      "  Downloading google_auth-2.6.6-py2.py3-none-any.whl (156 kB)\n",
      "\u001b[2K     \u001b[90m━━━━━━━━━━━━━━━━━━━━━━━━━━━━━━━━━━━━━━━\u001b[0m \u001b[32m156.7/156.7 KB\u001b[0m \u001b[31m1.0 MB/s\u001b[0m eta \u001b[36m0:00:00\u001b[0m00:01\u001b[0m\n",
      "\u001b[?25hCollecting tensorboard-plugin-wit>=1.6.0\n",
      "  Downloading tensorboard_plugin_wit-1.8.1-py3-none-any.whl (781 kB)\n",
      "\u001b[2K     \u001b[90m━━━━━━━━━━━━━━━━━━━━━━━━━━━━━━━━━━━━━━━\u001b[0m \u001b[32m781.3/781.3 KB\u001b[0m \u001b[31m5.3 MB/s\u001b[0m eta \u001b[36m0:00:00\u001b[0m00:01\u001b[0m\n",
      "\u001b[?25hRequirement already satisfied: requests<3,>=2.21.0 in /opt/conda/lib/python3.9/site-packages (from tensorboard<2.10,>=2.9->tensorflow) (2.27.1)\n",
      "Collecting markdown>=2.6.8\n",
      "  Downloading Markdown-3.3.7-py3-none-any.whl (97 kB)\n",
      "\u001b[2K     \u001b[90m━━━━━━━━━━━━━━━━━━━━━━━━━━━━━━━━━━━━━━━━\u001b[0m \u001b[32m97.8/97.8 KB\u001b[0m \u001b[31m2.3 MB/s\u001b[0m eta \u001b[36m0:00:00\u001b[0mta \u001b[36m0:00:01\u001b[0m\n",
      "\u001b[?25hRequirement already satisfied: werkzeug>=1.0.1 in /opt/conda/lib/python3.9/site-packages (from tensorboard<2.10,>=2.9->tensorflow) (2.1.0)\n",
      "Collecting google-auth-oauthlib<0.5,>=0.4.1\n",
      "  Downloading google_auth_oauthlib-0.4.6-py2.py3-none-any.whl (18 kB)\n",
      "Collecting tensorboard-data-server<0.7.0,>=0.6.0\n",
      "  Downloading tensorboard_data_server-0.6.1-py3-none-manylinux2010_x86_64.whl (4.9 MB)\n",
      "\u001b[2K     \u001b[90m━━━━━━━━━━━━━━━━━━━━━━━━━━━━━━━━━━━━━━━━\u001b[0m \u001b[32m4.9/4.9 MB\u001b[0m \u001b[31m23.6 MB/s\u001b[0m eta \u001b[36m0:00:00\u001b[0m:00:01\u001b[0m\n",
      "\u001b[?25hCollecting pyasn1-modules>=0.2.1\n",
      "  Downloading pyasn1_modules-0.2.8-py2.py3-none-any.whl (155 kB)\n",
      "\u001b[2K     \u001b[90m━━━━━━━━━━━━━━━━━━━━━━━━━━━━━━━━━━━━━━━\u001b[0m \u001b[32m155.3/155.3 KB\u001b[0m \u001b[31m3.0 MB/s\u001b[0m eta \u001b[36m0:00:00\u001b[0m00:01\u001b[0m\n",
      "\u001b[?25hCollecting rsa<5,>=3.1.4\n",
      "  Downloading rsa-4.8-py3-none-any.whl (39 kB)\n",
      "Collecting cachetools<6.0,>=2.0.0\n",
      "  Downloading cachetools-5.1.0-py3-none-any.whl (9.2 kB)\n",
      "Collecting requests-oauthlib>=0.7.0\n",
      "  Downloading requests_oauthlib-1.3.1-py2.py3-none-any.whl (23 kB)\n",
      "Requirement already satisfied: importlib-metadata>=4.4 in /opt/conda/lib/python3.9/site-packages (from markdown>=2.6.8->tensorboard<2.10,>=2.9->tensorflow) (4.11.3)\n",
      "Requirement already satisfied: idna<4,>=2.5 in /opt/conda/lib/python3.9/site-packages (from requests<3,>=2.21.0->tensorboard<2.10,>=2.9->tensorflow) (3.3)\n",
      "Requirement already satisfied: certifi>=2017.4.17 in /opt/conda/lib/python3.9/site-packages (from requests<3,>=2.21.0->tensorboard<2.10,>=2.9->tensorflow) (2021.10.8)\n",
      "Requirement already satisfied: urllib3<1.27,>=1.21.1 in /opt/conda/lib/python3.9/site-packages (from requests<3,>=2.21.0->tensorboard<2.10,>=2.9->tensorflow) (1.26.9)\n",
      "Requirement already satisfied: charset-normalizer~=2.0.0 in /opt/conda/lib/python3.9/site-packages (from requests<3,>=2.21.0->tensorboard<2.10,>=2.9->tensorflow) (2.0.12)\n",
      "Requirement already satisfied: zipp>=0.5 in /opt/conda/lib/python3.9/site-packages (from importlib-metadata>=4.4->markdown>=2.6.8->tensorboard<2.10,>=2.9->tensorflow) (3.7.0)\n",
      "Requirement already satisfied: pyasn1<0.5.0,>=0.4.6 in /opt/conda/lib/python3.9/site-packages (from pyasn1-modules>=0.2.1->google-auth<3,>=1.6.3->tensorboard<2.10,>=2.9->tensorflow) (0.4.8)\n",
      "Requirement already satisfied: oauthlib>=3.0.0 in /opt/conda/lib/python3.9/site-packages (from requests-oauthlib>=0.7.0->google-auth-oauthlib<0.5,>=0.4.1->tensorboard<2.10,>=2.9->tensorflow) (3.2.0)\n",
      "Building wheels for collected packages: termcolor\n",
      "  Building wheel for termcolor (setup.py) ... \u001b[?25ldone\n",
      "\u001b[?25h  Created wheel for termcolor: filename=termcolor-1.1.0-py3-none-any.whl size=4848 sha256=9fa0ebbfd6c84b73a14755a5ef82c96ee60d904107842797bcdbcc36c8816ee2\n",
      "  Stored in directory: /home/ucloud/.cache/pip/wheels/b6/0d/90/0d1bbd99855f99cb2f6c2e5ff96f8023fad8ec367695f7d72d\n",
      "Successfully built termcolor\n",
      "Installing collected packages: termcolor, tensorboard-plugin-wit, libclang, keras, flatbuffers, wrapt, tensorflow-io-gcs-filesystem, tensorflow-estimator, tensorboard-data-server, rsa, pyasn1-modules, opt-einsum, keras-preprocessing, h5py, grpcio, google-pasta, gast, cachetools, astunparse, absl-py, tensorflow-io, requests-oauthlib, markdown, google-auth, google-auth-oauthlib, tensorboard, tensorflow-gpu, tensorflow\n",
      "Successfully installed absl-py-1.0.0 astunparse-1.6.3 cachetools-5.1.0 flatbuffers-1.12 gast-0.4.0 google-auth-2.6.6 google-auth-oauthlib-0.4.6 google-pasta-0.2.0 grpcio-1.46.3 h5py-3.6.0 keras-2.9.0 keras-preprocessing-1.1.2 libclang-14.0.1 markdown-3.3.7 opt-einsum-3.3.0 pyasn1-modules-0.2.8 requests-oauthlib-1.3.1 rsa-4.8 tensorboard-2.9.0 tensorboard-data-server-0.6.1 tensorboard-plugin-wit-1.8.1 tensorflow-2.9.0 tensorflow-estimator-2.9.0 tensorflow-gpu-2.9.0 tensorflow-io-0.26.0 tensorflow-io-gcs-filesystem-0.26.0 termcolor-1.1.0 wrapt-1.14.1\n"
     ]
    }
   ],
   "source": [
    "!pip install tensorflow tensorflow-gpu tensorflow-io matplotlib"
   ]
  },
  {
   "cell_type": "code",
   "execution_count": 9,
   "id": "9c8de0e9-e6e6-40ff-889c-cab6a42cdf1f",
   "metadata": {
    "execution": {
     "iopub.execute_input": "2022-05-22T15:11:06.541046Z",
     "iopub.status.busy": "2022-05-22T15:11:06.540557Z",
     "iopub.status.idle": "2022-05-22T15:11:06.547873Z",
     "shell.execute_reply": "2022-05-22T15:11:06.546794Z",
     "shell.execute_reply.started": "2022-05-22T15:11:06.540991Z"
    },
    "tags": []
   },
   "outputs": [],
   "source": [
    "# Import required modules\n",
    "import subprocess\n",
    "import os\n",
    "from matplotlib import pyplot as plt\n",
    "import tensorflow as tf\n",
    "import tensorflow_io as tfio\n",
    "import zipfile"
   ]
  },
  {
   "cell_type": "markdown",
   "id": "db3afa61-e512-40b9-82eb-7d7d65f950e1",
   "metadata": {},
   "source": [
    "### Build dataloading function"
   ]
  },
  {
   "cell_type": "code",
   "execution_count": 7,
   "id": "a84d9ea5-08d9-436e-a76d-b7a22e2807bc",
   "metadata": {
    "execution": {
     "iopub.execute_input": "2022-05-22T15:10:35.301794Z",
     "iopub.status.busy": "2022-05-22T15:10:35.301641Z",
     "iopub.status.idle": "2022-05-22T15:10:35.306314Z",
     "shell.execute_reply": "2022-05-22T15:10:35.305754Z",
     "shell.execute_reply.started": "2022-05-22T15:10:35.301775Z"
    },
    "tags": []
   },
   "outputs": [],
   "source": [
    "def load_wav_16k_mono(filename):\n",
    "    # Load encoded wav file\n",
    "    file_contents = tf.io.read_file(filename)\n",
    "    # Decode wav (tensors by channels)\n",
    "    wav, sample_rate = tf.audio.decode_wav(file_contents, desired_channels = 1)\n",
    "    # Remove trailing axis\n",
    "    wav = tf.squeeze(wav, axis =-1)\n",
    "    sample_rate = tf.cast(sample_rate, dtype=tf.int64)\n",
    "    # Goes from 44100Hz to 16000Hz - amplitude of the audio signal\n",
    "    wav = tfio.audio.resample(wav, rate_in=sample_rate, rate_out=16000)\n",
    "    return wav"
   ]
  },
  {
   "cell_type": "markdown",
   "id": "a8e78229-e3a8-4340-88bf-839c85f891dd",
   "metadata": {
    "tags": []
   },
   "source": [
    "### Plot wave\n",
    "Here is an example of a plotted wave made by the function we just wrote"
   ]
  },
  {
   "cell_type": "code",
   "execution_count": null,
   "id": "e48b037a-74fb-448d-92f3-0fa48561079d",
   "metadata": {},
   "outputs": [],
   "source": [
    "# How to plot a single sound file? Check in video"
   ]
  },
  {
   "cell_type": "code",
   "execution_count": 8,
   "id": "ae7b8eeb-6840-4973-a650-5eef92436a40",
   "metadata": {
    "execution": {
     "iopub.execute_input": "2022-05-22T15:10:35.307073Z",
     "iopub.status.busy": "2022-05-22T15:10:35.306933Z",
     "iopub.status.idle": "2022-05-22T15:10:35.486728Z",
     "shell.execute_reply": "2022-05-22T15:10:35.485522Z",
     "shell.execute_reply.started": "2022-05-22T15:10:35.307056Z"
    },
    "tags": []
   },
   "outputs": [
    {
     "ename": "NameError",
     "evalue": "name 'single_a' is not defined",
     "output_type": "error",
     "traceback": [
      "\u001b[0;31m---------------------------------------------------------------------------\u001b[0m",
      "\u001b[0;31mNameError\u001b[0m                                 Traceback (most recent call last)",
      "Input \u001b[0;32mIn [8]\u001b[0m, in \u001b[0;36m<cell line: 1>\u001b[0;34m()\u001b[0m\n\u001b[0;32m----> 1\u001b[0m wave \u001b[38;5;241m=\u001b[39m load_wav_16k_mono(\u001b[43msingle_a\u001b[49m)\n\u001b[1;32m      2\u001b[0m plt\u001b[38;5;241m.\u001b[39mplot(wave)\n\u001b[1;32m      3\u001b[0m \u001b[38;5;66;03m#plt.plot(nwave)\u001b[39;00m\n",
      "\u001b[0;31mNameError\u001b[0m: name 'single_a' is not defined"
     ]
    }
   ],
   "source": [
    "wave = load_wav_16k_mono(single_a)\n",
    "plt.plot(wave)\n",
    "#plt.plot(nwave)\n",
    "print(type(wave)) # Show what type the wave is\n",
    "plt.show()"
   ]
  },
  {
   "cell_type": "markdown",
   "id": "910b6bde-1f6e-48da-90ff-df098aa175c5",
   "metadata": {
    "tags": []
   },
   "source": [
    "### Unzip files"
   ]
  },
  {
   "cell_type": "code",
   "execution_count": 250,
   "id": "1cbaf670-b11d-4626-bd33-41bcff076079",
   "metadata": {
    "execution": {
     "iopub.execute_input": "2022-05-22T10:39:03.667691Z",
     "iopub.status.busy": "2022-05-22T10:39:03.667170Z",
     "iopub.status.idle": "2022-05-22T10:39:14.476602Z",
     "shell.execute_reply": "2022-05-22T10:39:14.475289Z",
     "shell.execute_reply.started": "2022-05-22T10:39:03.667637Z"
    },
    "tags": []
   },
   "outputs": [
    {
     "name": "stdout",
     "output_type": "stream",
     "text": [
      "Extracted all\n"
     ]
    }
   ],
   "source": [
    "zip_file = os.path.join('vowels','16bit_data_2.zip')\n",
    " \n",
    "try:\n",
    "    with zipfile.ZipFile(zip_file) as z:\n",
    "        z.extractall('vowels')\n",
    "        print(\"Extracted all\")\n",
    "except:\n",
    "    print(\"Invalid file\")"
   ]
  },
  {
   "cell_type": "markdown",
   "id": "c121669c-1103-48f7-bad3-b09c048448ef",
   "metadata": {},
   "source": [
    "### Create tensorflow dataset"
   ]
  },
  {
   "cell_type": "code",
   "execution_count": 10,
   "id": "f3c3993b-94c1-4083-b823-81bef4504587",
   "metadata": {
    "execution": {
     "iopub.execute_input": "2022-05-22T15:12:14.768549Z",
     "iopub.status.busy": "2022-05-22T15:12:14.768043Z",
     "iopub.status.idle": "2022-05-22T15:12:14.775152Z",
     "shell.execute_reply": "2022-05-22T15:12:14.774242Z",
     "shell.execute_reply.started": "2022-05-22T15:12:14.768479Z"
    },
    "tags": []
   },
   "outputs": [],
   "source": [
    "# Define file paths for the two folders with either front or back vowels\n",
    "FRONT =  os.path.join('vowels', '16bit_data', 'front') \n",
    "BACK =  os.path.join('vowels', '16bit_data', 'back') \n"
   ]
  },
  {
   "cell_type": "code",
   "execution_count": 11,
   "id": "8c4b7cb8-af57-4993-8909-adf1a7d7eddd",
   "metadata": {
    "execution": {
     "iopub.execute_input": "2022-05-22T15:12:20.279754Z",
     "iopub.status.busy": "2022-05-22T15:12:20.279255Z",
     "iopub.status.idle": "2022-05-22T15:12:20.288217Z",
     "shell.execute_reply": "2022-05-22T15:12:20.287025Z",
     "shell.execute_reply.started": "2022-05-22T15:12:20.279701Z"
    },
    "tags": []
   },
   "outputs": [
    {
     "data": {
      "text/plain": [
       "('vowels/16bit_data/front', 'vowels/16bit_data/back')"
      ]
     },
     "execution_count": 11,
     "metadata": {},
     "output_type": "execute_result"
    }
   ],
   "source": [
    "FRONT, BACK"
   ]
  },
  {
   "cell_type": "code",
   "execution_count": 12,
   "id": "64436c6d-7123-427e-8c00-262ea41c0790",
   "metadata": {
    "execution": {
     "iopub.execute_input": "2022-05-22T15:12:38.406373Z",
     "iopub.status.busy": "2022-05-22T15:12:38.405888Z",
     "iopub.status.idle": "2022-05-22T15:12:38.556722Z",
     "shell.execute_reply": "2022-05-22T15:12:38.556020Z",
     "shell.execute_reply.started": "2022-05-22T15:12:38.406320Z"
    },
    "tags": []
   },
   "outputs": [],
   "source": [
    "# Slashes are regular slashes, not backslashes as in the guide\n",
    "front = tf.data.Dataset.list_files(FRONT+'/*.wav')\n",
    "back = tf.data.Dataset.list_files(BACK+'/*.wav')"
   ]
  },
  {
   "cell_type": "code",
   "execution_count": 13,
   "id": "328a1e2a-e315-473e-9061-020591dd9294",
   "metadata": {
    "execution": {
     "iopub.execute_input": "2022-05-22T15:12:43.890792Z",
     "iopub.status.busy": "2022-05-22T15:12:43.890291Z",
     "iopub.status.idle": "2022-05-22T15:12:43.920089Z",
     "shell.execute_reply": "2022-05-22T15:12:43.919074Z",
     "shell.execute_reply.started": "2022-05-22T15:12:43.890740Z"
    },
    "tags": []
   },
   "outputs": [
    {
     "data": {
      "text/plain": [
       "b'vowels/16bit_data/back/f07_iso_05.wav'"
      ]
     },
     "execution_count": 13,
     "metadata": {},
     "output_type": "execute_result"
    }
   ],
   "source": [
    "back.as_numpy_iterator().next()"
   ]
  },
  {
   "cell_type": "code",
   "execution_count": 33,
   "id": "62a5d0e1-76dd-4e62-9ecc-9de47a3b8290",
   "metadata": {
    "execution": {
     "iopub.execute_input": "2022-05-22T15:34:49.896750Z",
     "iopub.status.busy": "2022-05-22T15:34:49.896235Z",
     "iopub.status.idle": "2022-05-22T15:34:49.905976Z",
     "shell.execute_reply": "2022-05-22T15:34:49.905302Z",
     "shell.execute_reply.started": "2022-05-22T15:34:49.896696Z"
    },
    "tags": []
   },
   "outputs": [
    {
     "data": {
      "text/plain": [
       "['f04_short_06.wav',\n",
       " 'f02_06.wav',\n",
       " 'f12_01.wav',\n",
       " 'f00_01.wav',\n",
       " 'f07_long_06.wav',\n",
       " 'f06_iso_01.wav',\n",
       " 'f07_iso_01.wav',\n",
       " 'f05_iso_01.wav',\n",
       " 'm05_01.wav',\n",
       " 'f04_iso_01.wav']"
      ]
     },
     "execution_count": 33,
     "metadata": {},
     "output_type": "execute_result"
    }
   ],
   "source": [
    "# These are the file names in the folder 'front'\n",
    "os.listdir(os.path.join('vowels','16bit_data','front'))[:10]"
   ]
  },
  {
   "cell_type": "markdown",
   "id": "2dae60d1-b6ba-4e5c-9630-a69b1116bca8",
   "metadata": {},
   "source": [
    "#### Add labels and combine positive and negative samples\n",
    "\n",
    "Here, all the files that are front vowels have gotten a 1 attached to them, all the back vowel-files have gotten a 0."
   ]
  },
  {
   "cell_type": "code",
   "execution_count": 15,
   "id": "5640acfd-01a8-493a-aafb-089c62b5110e",
   "metadata": {
    "execution": {
     "iopub.execute_input": "2022-05-22T15:14:48.221641Z",
     "iopub.status.busy": "2022-05-22T15:14:48.221116Z",
     "iopub.status.idle": "2022-05-22T15:14:48.235428Z",
     "shell.execute_reply": "2022-05-22T15:14:48.234839Z",
     "shell.execute_reply.started": "2022-05-22T15:14:48.221585Z"
    },
    "tags": []
   },
   "outputs": [
    {
     "name": "stdout",
     "output_type": "stream",
     "text": [
      "<ConcatenateDataset element_spec=(TensorSpec(shape=(), dtype=tf.string, name=None), TensorSpec(shape=(), dtype=tf.float32, name=None))>\n"
     ]
    }
   ],
   "source": [
    "front_lab = tf.data.Dataset.zip((front, tf.data.Dataset.from_tensor_slices(tf.ones(len(front)))))\n",
    "back_lab = tf.data.Dataset.zip((back, tf.data.Dataset.from_tensor_slices(tf.zeros(len(back)))))\n",
    "data = front_lab.concatenate(back_lab)\n",
    "print(data)"
   ]
  },
  {
   "cell_type": "code",
   "execution_count": 16,
   "id": "192861f3-10c2-4dfc-8e81-770385094e66",
   "metadata": {
    "execution": {
     "iopub.execute_input": "2022-05-22T15:14:50.778235Z",
     "iopub.status.busy": "2022-05-22T15:14:50.777727Z",
     "iopub.status.idle": "2022-05-22T15:14:50.787134Z",
     "shell.execute_reply": "2022-05-22T15:14:50.786093Z",
     "shell.execute_reply.started": "2022-05-22T15:14:50.778179Z"
    },
    "tags": []
   },
   "outputs": [
    {
     "data": {
      "text/plain": [
       "113"
      ]
     },
     "execution_count": 16,
     "metadata": {},
     "output_type": "execute_result"
    }
   ],
   "source": [
    "len(data)"
   ]
  },
  {
   "cell_type": "code",
   "execution_count": 18,
   "id": "06a88486-f15e-4ef2-bd06-7563609dc226",
   "metadata": {
    "execution": {
     "iopub.execute_input": "2022-05-22T15:15:05.786432Z",
     "iopub.status.busy": "2022-05-22T15:15:05.785919Z",
     "iopub.status.idle": "2022-05-22T15:15:05.813733Z",
     "shell.execute_reply": "2022-05-22T15:15:05.813260Z",
     "shell.execute_reply.started": "2022-05-22T15:15:05.786375Z"
    },
    "tags": []
   },
   "outputs": [
    {
     "data": {
      "text/plain": [
       "(b'vowels/16bit_data/back/f05_iso_05.wav', 0.0)"
      ]
     },
     "execution_count": 19,
     "metadata": {},
     "output_type": "execute_result"
    }
   ],
   "source": [
    "# Look through the data with this command. It shuffles the data and shows a random one, so you'll find both front and negatives here\n",
    "data.shuffle(10000).as_numpy_iterator().next()\n"
   ]
  },
  {
   "cell_type": "markdown",
   "id": "0b940a5b-3a62-490c-aac9-ca715f594457",
   "metadata": {
    "execution": {
     "iopub.execute_input": "2022-05-11T12:14:17.071588Z",
     "iopub.status.busy": "2022-05-11T12:14:17.071081Z",
     "iopub.status.idle": "2022-05-11T12:14:17.080904Z",
     "shell.execute_reply": "2022-05-11T12:14:17.079717Z",
     "shell.execute_reply.started": "2022-05-11T12:14:17.071540Z"
    },
    "tags": []
   },
   "source": [
    "### Determine average length of the vowel recordings"
   ]
  },
  {
   "cell_type": "code",
   "execution_count": 29,
   "id": "0e497f00-efeb-443e-b5a8-039a72d620f6",
   "metadata": {
    "execution": {
     "iopub.execute_input": "2022-05-22T15:32:42.299214Z",
     "iopub.status.busy": "2022-05-22T15:32:42.298725Z",
     "iopub.status.idle": "2022-05-22T15:32:48.838299Z",
     "shell.execute_reply": "2022-05-22T15:32:48.837687Z",
     "shell.execute_reply.started": "2022-05-22T15:32:42.299159Z"
    },
    "tags": []
   },
   "outputs": [
    {
     "name": "stdout",
     "output_type": "stream",
     "text": [
      "[2593, 2847, 3475, 2958, 3162, 5794, 7619, 11848, 5327, 12707, 4690, 3302, 5529, 3306, 5994, 2708, 8876, 3832, 8283, 28814, 11320, 6939, 1942, 4827, 5190, 4905, 6479, 5348, 2726, 2856, 8791, 2777, 5844, 6345, 7664, 8583, 7555, 3032, 4563, 4294, 5618, 5992, 2777, 8063, 3767, 7567, 4345, 9083, 5609, 3198, 4059, 5302, 3768, 3038, 8894, 3114, 5406, 8583, 6901, 5400, 9610, 13823, 13301, 6082, 6250, 6431, 4364, 3886, 5594, 3701, 5046, 7378, 3266, 3012, 11899, 2515, 3248, 12689, 4910, 8388, 5858, 3376, 6718, 4868, 12425, 2812, 2261, 3957, 4437, 3013, 2871, 3045, 10355, 4664, 12381, 3699, 15604, 3861, 16152, 5359, 2193, 8377, 4763, 4888, 8596, 11044, 3693, 4542, 11593, 5716, 11888, 3347, 10037]\n"
     ]
    }
   ],
   "source": [
    "lengths = []\n",
    "for file in os.listdir(FRONT):\n",
    "    tensor_wave = load_wav_16k_mono(os.path.join('vowels','16bit_data','front',file))\n",
    "    lengths.append(len(tensor_wave))    \n",
    "for file in os.listdir(BACK):\n",
    "    tensor_wave = load_wav_16k_mono(os.path.join('vowels','16bit_data','back',file))\n",
    "    lengths.append(len(tensor_wave))\n",
    "print(lengths)"
   ]
  },
  {
   "cell_type": "code",
   "execution_count": 30,
   "id": "692a344e-9ef6-4c75-8b27-c824355105dc",
   "metadata": {
    "execution": {
     "iopub.execute_input": "2022-05-22T15:33:13.790892Z",
     "iopub.status.busy": "2022-05-22T15:33:13.790381Z",
     "iopub.status.idle": "2022-05-22T15:33:13.799139Z",
     "shell.execute_reply": "2022-05-22T15:33:13.797944Z",
     "shell.execute_reply.started": "2022-05-22T15:33:13.790836Z"
    },
    "tags": []
   },
   "outputs": [
    {
     "name": "stdout",
     "output_type": "stream",
     "text": [
      "[2593, 2847, 3475, 2958, 3162, 5794, 7619, 5327, 4690, 3302, 5529, 3306, 5994, 2708, 8876, 3832, 8283, 6939, 1942, 4827, 5190, 4905, 6479, 5348, 2726, 2856, 8791, 2777, 5844, 6345, 7664, 8583, 7555, 3032, 4563, 4294, 5618, 5992, 2777, 8063, 3767, 7567, 4345, 9083, 5609, 3198, 4059, 5302, 3768, 3038, 8894, 3114, 5406, 8583, 6901, 5400, 9610, 6082, 6250, 6431, 4364, 3886, 5594, 3701, 5046, 7378, 3266, 3012, 2515, 3248, 4910, 8388, 5858, 3376, 6718, 4868, 2812, 2261, 3957, 4437, 3013, 2871, 3045, 4664, 3699, 3861, 5359, 2193, 8377, 4763, 4888, 8596, 3693, 4542, 5716, 3347]\n"
     ]
    }
   ],
   "source": [
    "short_lengths = []\n",
    "for length in lengths:\n",
    "    if length > 10000:\n",
    "        pass\n",
    "    \n",
    "    else:\n",
    "        short_lengths.append(length)\n",
    "print(short_lengths)                        "
   ]
  },
  {
   "cell_type": "markdown",
   "id": "6085708c-9380-4ea4-bcb1-bf0eb018848b",
   "metadata": {},
   "source": [
    "### Calculate means, min, max from the short_lengths\n",
    "\n",
    "This is done in order to find a mean length that is not influenced by the outliers. \n",
    "\n",
    "The soundfiles will be trimmed to fit this mean length in the function "
   ]
  },
  {
   "cell_type": "code",
   "execution_count": 404,
   "id": "56af4c03-f192-47f7-8125-6e4330469d05",
   "metadata": {
    "execution": {
     "iopub.execute_input": "2022-05-22T11:29:11.685326Z",
     "iopub.status.busy": "2022-05-22T11:29:11.684791Z",
     "iopub.status.idle": "2022-05-22T11:29:11.695595Z",
     "shell.execute_reply": "2022-05-22T11:29:11.694636Z",
     "shell.execute_reply.started": "2022-05-22T11:29:11.685269Z"
    },
    "tags": []
   },
   "outputs": [
    {
     "data": {
      "text/plain": [
       "<tf.Tensor: shape=(), dtype=int32, numpy=5195>"
      ]
     },
     "execution_count": 404,
     "metadata": {},
     "output_type": "execute_result"
    }
   ],
   "source": [
    "# Find mean lenghth\n",
    "tf.math.reduce_mean(short_lengths)"
   ]
  },
  {
   "cell_type": "code",
   "execution_count": 393,
   "id": "257bba21-4358-43f4-ac95-8f344ffea914",
   "metadata": {
    "execution": {
     "iopub.execute_input": "2022-05-22T11:15:39.538252Z",
     "iopub.status.busy": "2022-05-22T11:15:39.537720Z",
     "iopub.status.idle": "2022-05-22T11:15:39.547340Z",
     "shell.execute_reply": "2022-05-22T11:15:39.546321Z",
     "shell.execute_reply.started": "2022-05-22T11:15:39.538194Z"
    }
   },
   "outputs": [
    {
     "data": {
      "text/plain": [
       "0.3806875"
      ]
     },
     "execution_count": 393,
     "metadata": {},
     "output_type": "execute_result"
    }
   ],
   "source": [
    "6091/16000   # this is the mean divided by hZ to convert to seconds (find out how this is actually calculated)"
   ]
  },
  {
   "cell_type": "code",
   "execution_count": 394,
   "id": "60a34b3f-77f6-411e-895a-613659ccf276",
   "metadata": {
    "execution": {
     "iopub.execute_input": "2022-05-22T11:17:31.389220Z",
     "iopub.status.busy": "2022-05-22T11:17:31.388717Z",
     "iopub.status.idle": "2022-05-22T11:17:31.398612Z",
     "shell.execute_reply": "2022-05-22T11:17:31.397791Z",
     "shell.execute_reply.started": "2022-05-22T11:17:31.389166Z"
    }
   },
   "outputs": [
    {
     "data": {
      "text/plain": [
       "<tf.Tensor: shape=(), dtype=int32, numpy=1942>"
      ]
     },
     "execution_count": 394,
     "metadata": {},
     "output_type": "execute_result"
    }
   ],
   "source": [
    "# Find min lenghth\n",
    "\n",
    "tf.math.reduce_min(lengths)"
   ]
  },
  {
   "cell_type": "code",
   "execution_count": 396,
   "id": "43b89be2-929d-4618-8ce8-7351a80f1782",
   "metadata": {
    "execution": {
     "iopub.execute_input": "2022-05-22T11:19:51.907079Z",
     "iopub.status.busy": "2022-05-22T11:19:51.906540Z",
     "iopub.status.idle": "2022-05-22T11:19:51.935231Z",
     "shell.execute_reply": "2022-05-22T11:19:51.934433Z",
     "shell.execute_reply.started": "2022-05-22T11:19:51.907020Z"
    },
    "tags": []
   },
   "outputs": [
    {
     "ename": "AttributeError",
     "evalue": "module 'tensorflow._api.v2.math' has no attribute 'reduce_median'",
     "output_type": "error",
     "traceback": [
      "\u001b[0;31m---------------------------------------------------------------------------\u001b[0m",
      "\u001b[0;31mAttributeError\u001b[0m                            Traceback (most recent call last)",
      "Input \u001b[0;32mIn [396]\u001b[0m, in \u001b[0;36m<cell line: 2>\u001b[0;34m()\u001b[0m\n\u001b[1;32m      1\u001b[0m \u001b[38;5;66;03m# Max length\u001b[39;00m\n\u001b[0;32m----> 2\u001b[0m \u001b[43mtf\u001b[49m\u001b[38;5;241;43m.\u001b[39;49m\u001b[43mmath\u001b[49m\u001b[38;5;241;43m.\u001b[39;49m\u001b[43mreduce_median\u001b[49m(lengths)\n",
      "\u001b[0;31mAttributeError\u001b[0m: module 'tensorflow._api.v2.math' has no attribute 'reduce_median'"
     ]
    }
   ],
   "source": [
    "# Max length\n",
    "tf.math.reduce_median(lengths)"
   ]
  },
  {
   "cell_type": "code",
   "execution_count": 405,
   "id": "c4f3fd06-206b-4507-9365-9ec622153277",
   "metadata": {
    "execution": {
     "iopub.execute_input": "2022-05-22T11:29:35.680782Z",
     "iopub.status.busy": "2022-05-22T11:29:35.680228Z",
     "iopub.status.idle": "2022-05-22T11:29:35.691291Z",
     "shell.execute_reply": "2022-05-22T11:29:35.690587Z",
     "shell.execute_reply.started": "2022-05-22T11:29:35.680724Z"
    }
   },
   "outputs": [
    {
     "data": {
      "text/plain": [
       "<tf.Tensor: shape=(), dtype=int32, numpy=9083>"
      ]
     },
     "execution_count": 405,
     "metadata": {},
     "output_type": "execute_result"
    }
   ],
   "source": [
    "tf.math.reduce_max(short_lengths)"
   ]
  },
  {
   "cell_type": "markdown",
   "id": "a56e1b18-c030-4d15-8518-014b3688069c",
   "metadata": {},
   "source": [
    "### Build preprocessing function to convert to spectrogram"
   ]
  },
  {
   "cell_type": "markdown",
   "id": "904269fb-cc53-428c-bb42-38d979ce082d",
   "metadata": {},
   "source": [
    "#### 5.1 Build preprocessing function"
   ]
  },
  {
   "cell_type": "code",
   "execution_count": 406,
   "id": "00e543b1-1f03-4e9a-a080-5e7462a457a7",
   "metadata": {
    "execution": {
     "iopub.execute_input": "2022-05-22T11:31:00.831996Z",
     "iopub.status.busy": "2022-05-22T11:31:00.831467Z",
     "iopub.status.idle": "2022-05-22T11:31:00.842567Z",
     "shell.execute_reply": "2022-05-22T11:31:00.841875Z",
     "shell.execute_reply.started": "2022-05-22T11:31:00.831940Z"
    },
    "tags": []
   },
   "outputs": [],
   "source": [
    "def preprocess(file_path, label):\n",
    "    # Load the file with load_wav_16k_mono function\n",
    "    wav = load_wav_16k_mono(filepath)\n",
    "    # Take only the first 48000 steps\n",
    "    wav = wav[:6000]\n",
    "    # If the wav-file is shorter than 48000, pad it with zeros (add zeros at the start of the file)\n",
    "    zero_padding = tf.zeros([6000]-tf.shape(wav),dtype=tf.float32)\n",
    "    wav = tf.concat([zero_padding, wav],0)\n",
    "    # Create spectrogram with the short form fourier transform (.stft)\n",
    "    spectrogram = tf.signal.stft(wav, frame_length = 320, frame_step = 32)\n",
    "    # Convert it into absolute values (no negative numbers)\n",
    "    spectrogram = tf.abs(spectrogram)\n",
    "    spectrogram= tf.expand_dims(spectrogram, axis=2)\n",
    "    return spectrogram, label\n",
    "    "
   ]
  },
  {
   "cell_type": "code",
   "execution_count": null,
   "id": "a7178016-4969-4f63-8482-78168a43c2cf",
   "metadata": {
    "tags": []
   },
   "outputs": [],
   "source": []
  },
  {
   "cell_type": "markdown",
   "id": "00afdd1d-ba1c-4c2c-ab10-2765ce2abd40",
   "metadata": {},
   "source": [
    "#### 5.2 Test out the function and vizualize the spectrogram "
   ]
  },
  {
   "cell_type": "code",
   "execution_count": 407,
   "id": "fe82f9a8-fac1-467c-a2aa-f421d100f795",
   "metadata": {
    "execution": {
     "iopub.execute_input": "2022-05-22T11:31:07.650641Z",
     "iopub.status.busy": "2022-05-22T11:31:07.650059Z",
     "iopub.status.idle": "2022-05-22T11:31:07.885602Z",
     "shell.execute_reply": "2022-05-22T11:31:07.884937Z",
     "shell.execute_reply.started": "2022-05-22T11:31:07.650581Z"
    },
    "tags": []
   },
   "outputs": [
    {
     "data": {
      "image/png": "[encoded data removed]",
      "text/plain": [
       "<Figure size 1080x720 with 1 Axes>"
      ]
     },
     "metadata": {
      "needs_background": "light"
     },
     "output_type": "display_data"
    }
   ],
   "source": [
    "# Here, a random spectrogram from the negatives is chosen. \n",
    "# Substitue 'negatives' with 'positives' to see a capuchin spectrogram\n",
    "filepath, label = alfa.shuffle(buffer_size = 10000).as_numpy_iterator().next()\n",
    "spectogram, label = preprocess(filepath, label)\n",
    "plt.figure(figsize=(15,10))\n",
    "plt.imshow(tf.transpose(spectogram)[0])\n",
    "plt.show()"
   ]
  },
  {
   "cell_type": "code",
   "execution_count": 408,
   "id": "674f76eb-429a-4832-be59-f0f761bcf555",
   "metadata": {
    "execution": {
     "iopub.execute_input": "2022-05-22T11:31:38.104980Z",
     "iopub.status.busy": "2022-05-22T11:31:38.104442Z",
     "iopub.status.idle": "2022-05-22T11:31:38.113899Z",
     "shell.execute_reply": "2022-05-22T11:31:38.112692Z",
     "shell.execute_reply.started": "2022-05-22T11:31:38.104923Z"
    },
    "tags": []
   },
   "outputs": [
    {
     "data": {
      "text/plain": [
       "<ZipDataset element_spec=(TensorSpec(shape=(), dtype=tf.string, name=None), TensorSpec(shape=(), dtype=tf.float32, name=None))>"
      ]
     },
     "execution_count": 408,
     "metadata": {},
     "output_type": "execute_result"
    }
   ],
   "source": [
    "iota"
   ]
  },
  {
   "cell_type": "code",
   "execution_count": 357,
   "id": "eed3dfdd-d018-42ee-aaeb-715856b887e1",
   "metadata": {
    "execution": {
     "iopub.execute_input": "2022-05-22T11:06:23.828297Z",
     "iopub.status.busy": "2022-05-22T11:06:23.827798Z",
     "iopub.status.idle": "2022-05-22T11:06:23.834464Z",
     "shell.execute_reply": "2022-05-22T11:06:23.833181Z",
     "shell.execute_reply.started": "2022-05-22T11:06:23.828245Z"
    },
    "tags": []
   },
   "outputs": [],
   "source": [
    "#spectrogram, label = preprocess(filepath, label)\n"
   ]
  },
  {
   "cell_type": "code",
   "execution_count": null,
   "id": "d1c89657-08af-4757-a991-b0c281608387",
   "metadata": {
    "tags": []
   },
   "outputs": [],
   "source": [
    "\n"
   ]
  },
  {
   "cell_type": "code",
   "execution_count": 409,
   "id": "4b460873-3e5a-4083-a98b-e5a1db0f5320",
   "metadata": {
    "execution": {
     "iopub.execute_input": "2022-05-22T11:31:43.255924Z",
     "iopub.status.busy": "2022-05-22T11:31:43.255373Z",
     "iopub.status.idle": "2022-05-22T11:31:43.447547Z",
     "shell.execute_reply": "2022-05-22T11:31:43.446866Z",
     "shell.execute_reply.started": "2022-05-22T11:31:43.255866Z"
    },
    "tags": []
   },
   "outputs": [
    {
     "data": {
      "image/png": "[encoded data removed]",
      "text/plain": [
       "<Figure size 1080x720 with 1 Axes>"
      ]
     },
     "metadata": {
      "needs_background": "light"
     },
     "output_type": "display_data"
    }
   ],
   "source": [
    "filepath, label = alfa.as_numpy_iterator().next()\n",
    "filepath\n",
    "\n",
    "spectrogram = preprocess(filepath, label)\n",
    "\n",
    "plt.figure(figsize=(15,10))\n",
    "plt.imshow(tf.transpose(spectogram)[0])\n",
    "plt.show()"
   ]
  },
  {
   "cell_type": "markdown",
   "id": "54052bf9-52b4-4df2-9580-5988fe943d0d",
   "metadata": {},
   "source": [
    "### 6.Create training and testing partitions\n",
    "\n",
    "Here, the data, which is currently just individual string with a path to .wav file in, will be converted in to spectrograms for the CNN  to work with\n",
    "#### 6.1 Create a Tensorflow data pipeline \n"
   ]
  },
  {
   "cell_type": "code",
   "execution_count": 410,
   "id": "e33503cb-bc9f-45f4-9a84-a86937d6dc65",
   "metadata": {
    "execution": {
     "iopub.execute_input": "2022-05-22T11:31:50.280946Z",
     "iopub.status.busy": "2022-05-22T11:31:50.280383Z",
     "iopub.status.idle": "2022-05-22T11:31:50.290612Z",
     "shell.execute_reply": "2022-05-22T11:31:50.289604Z",
     "shell.execute_reply.started": "2022-05-22T11:31:50.280888Z"
    },
    "tags": []
   },
   "outputs": [
    {
     "data": {
      "text/plain": [
       "49"
      ]
     },
     "execution_count": 410,
     "metadata": {},
     "output_type": "execute_result"
    }
   ],
   "source": [
    "len(iota)"
   ]
  },
  {
   "cell_type": "code",
   "execution_count": 411,
   "id": "c11ee850-ebf8-42cd-8c85-f2de97f8671f",
   "metadata": {
    "execution": {
     "iopub.execute_input": "2022-05-22T11:32:12.664955Z",
     "iopub.status.busy": "2022-05-22T11:32:12.664423Z",
     "iopub.status.idle": "2022-05-22T11:32:13.258160Z",
     "shell.execute_reply": "2022-05-22T11:32:13.257512Z",
     "shell.execute_reply.started": "2022-05-22T11:32:12.664900Z"
    },
    "tags": []
   },
   "outputs": [
    {
     "name": "stdout",
     "output_type": "stream",
     "text": [
      "WARNING:tensorflow:Using a while_loop for converting IO>AudioResample\n"
     ]
    },
    {
     "data": {
      "text/plain": [
       "113"
      ]
     },
     "execution_count": 411,
     "metadata": {},
     "output_type": "execute_result"
    }
   ],
   "source": [
    "data = data.map(preprocess)\n",
    "len(data)"
   ]
  },
  {
   "cell_type": "code",
   "execution_count": 412,
   "id": "dcedec35-f01b-4570-b124-db32052f80f2",
   "metadata": {
    "execution": {
     "iopub.execute_input": "2022-05-22T11:32:18.704155Z",
     "iopub.status.busy": "2022-05-22T11:32:18.703614Z",
     "iopub.status.idle": "2022-05-22T11:32:18.885198Z",
     "shell.execute_reply": "2022-05-22T11:32:18.884591Z",
     "shell.execute_reply.started": "2022-05-22T11:32:18.704097Z"
    },
    "tags": []
   },
   "outputs": [
    {
     "name": "stdout",
     "output_type": "stream",
     "text": [
      "WARNING:tensorflow:Using a while_loop for converting IO>AudioResample\n"
     ]
    },
    {
     "data": {
      "text/plain": [
       "8"
      ]
     },
     "execution_count": 412,
     "metadata": {},
     "output_type": "execute_result"
    }
   ],
   "source": [
    "# Let's 'macshbap' the data! \n",
    "data = data.map(preprocess)\n",
    "data = data.cache()\n",
    "# shuffle to mix up the traning samples as to not \n",
    "#have positives at the start and negatives at the end:\n",
    "data = data.shuffle(buffer_size=1000)\n",
    "# Batch it up to train at 16 samples at a time\n",
    "data = data.batch(16)\n",
    "# Prefetch 8 examples to eliminate potential cpu bottleneck\n",
    "data = data.prefetch(8)\n",
    "len(data)"
   ]
  },
  {
   "cell_type": "code",
   "execution_count": 413,
   "id": "ce647596-be5d-4c8c-a051-203c1ef2ba08",
   "metadata": {
    "execution": {
     "iopub.execute_input": "2022-05-22T11:32:22.193149Z",
     "iopub.status.busy": "2022-05-22T11:32:22.192615Z",
     "iopub.status.idle": "2022-05-22T11:32:22.207742Z",
     "shell.execute_reply": "2022-05-22T11:32:22.206661Z",
     "shell.execute_reply.started": "2022-05-22T11:32:22.193092Z"
    },
    "tags": []
   },
   "outputs": [
    {
     "data": {
      "text/plain": [
       "8"
      ]
     },
     "execution_count": 413,
     "metadata": {},
     "output_type": "execute_result"
    }
   ],
   "source": [
    "len(data)"
   ]
  },
  {
   "cell_type": "markdown",
   "id": "b87a06d9-efe3-44e9-a39c-d80f6357e992",
   "metadata": {},
   "source": [
    "#### 6.2 Split into traning and test partitions"
   ]
  },
  {
   "cell_type": "code",
   "execution_count": 414,
   "id": "da264efa-7d5c-494e-b2c7-12d973524e10",
   "metadata": {
    "execution": {
     "iopub.execute_input": "2022-05-22T11:32:25.106919Z",
     "iopub.status.busy": "2022-05-22T11:32:25.106330Z",
     "iopub.status.idle": "2022-05-22T11:32:25.116592Z",
     "shell.execute_reply": "2022-05-22T11:32:25.115535Z",
     "shell.execute_reply.started": "2022-05-22T11:32:25.106855Z"
    },
    "tags": []
   },
   "outputs": [
    {
     "data": {
      "text/plain": [
       "5.6"
      ]
     },
     "execution_count": 414,
     "metadata": {},
     "output_type": "execute_result"
    }
   ],
   "source": [
    "# Here, we check the length of our data\n",
    "len(data)\n",
    "# The length is 51, and we'll have 70% as our training data\n",
    "len(data)*0.7\n",
    "# 70% of the data is 35.69, let's round it up to 36"
   ]
  },
  {
   "cell_type": "code",
   "execution_count": 415,
   "id": "4d2950d9-1288-4065-b298-c8e2790183ce",
   "metadata": {
    "execution": {
     "iopub.execute_input": "2022-05-22T11:32:27.473003Z",
     "iopub.status.busy": "2022-05-22T11:32:27.472467Z",
     "iopub.status.idle": "2022-05-22T11:32:27.489746Z",
     "shell.execute_reply": "2022-05-22T11:32:27.488612Z",
     "shell.execute_reply.started": "2022-05-22T11:32:27.472945Z"
    },
    "tags": []
   },
   "outputs": [],
   "source": [
    "# Training data with 36 of the samples\n",
    "train = data.take(5)\n",
    "# Test data, here we skip the initial 36 and take the remaining 15\n",
    "test = data.skip(5).take(3)"
   ]
  },
  {
   "cell_type": "markdown",
   "id": "5dd8b3e0-3dd7-417d-85e7-c127634834d2",
   "metadata": {},
   "source": [
    "#### 6.3 Test one batch"
   ]
  },
  {
   "cell_type": "code",
   "execution_count": 416,
   "id": "4d969b8c-6525-486e-8a4e-e492ef4bc1d5",
   "metadata": {
    "execution": {
     "iopub.execute_input": "2022-05-22T11:32:30.983724Z",
     "iopub.status.busy": "2022-05-22T11:32:30.983215Z",
     "iopub.status.idle": "2022-05-22T11:32:31.333228Z",
     "shell.execute_reply": "2022-05-22T11:32:31.332620Z",
     "shell.execute_reply.started": "2022-05-22T11:32:30.983669Z"
    },
    "tags": []
   },
   "outputs": [],
   "source": [
    "samples, labels = train.as_numpy_iterator().next()\n"
   ]
  },
  {
   "cell_type": "code",
   "execution_count": 424,
   "id": "ed5a9b2c-e11d-4146-bcb1-4aecc6470028",
   "metadata": {
    "execution": {
     "iopub.execute_input": "2022-05-22T11:34:36.864957Z",
     "iopub.status.busy": "2022-05-22T11:34:36.864567Z",
     "iopub.status.idle": "2022-05-22T11:34:36.876106Z",
     "shell.execute_reply": "2022-05-22T11:34:36.875424Z",
     "shell.execute_reply.started": "2022-05-22T11:34:36.864911Z"
    },
    "tags": []
   },
   "outputs": [
    {
     "data": {
      "text/plain": [
       "(16, 178, 257, 1)"
      ]
     },
     "execution_count": 424,
     "metadata": {},
     "output_type": "execute_result"
    }
   ],
   "source": [
    "samples.shape"
   ]
  },
  {
   "cell_type": "code",
   "execution_count": 418,
   "id": "45c83b0a-ffc2-4b10-966c-9b8dc7c4bb92",
   "metadata": {
    "execution": {
     "iopub.execute_input": "2022-05-22T11:32:32.594889Z",
     "iopub.status.busy": "2022-05-22T11:32:32.594369Z",
     "iopub.status.idle": "2022-05-22T11:32:32.603612Z",
     "shell.execute_reply": "2022-05-22T11:32:32.602570Z",
     "shell.execute_reply.started": "2022-05-22T11:32:32.594834Z"
    },
    "tags": []
   },
   "outputs": [
    {
     "data": {
      "text/plain": [
       "numpy.ndarray"
      ]
     },
     "execution_count": 418,
     "metadata": {},
     "output_type": "execute_result"
    }
   ],
   "source": [
    "type(samples)"
   ]
  },
  {
   "cell_type": "markdown",
   "id": "ad7a03ed-324e-41ac-85f5-765b2c7882e8",
   "metadata": {},
   "source": [
    "### 7. Build deep learning model\n",
    "\n",
    "#### 7.1 Load Tensorflow dependencies"
   ]
  },
  {
   "cell_type": "code",
   "execution_count": 419,
   "id": "1979d51e-4c19-410a-9c0d-7c974de5a967",
   "metadata": {
    "execution": {
     "iopub.execute_input": "2022-05-22T11:32:40.162055Z",
     "iopub.status.busy": "2022-05-22T11:32:40.161519Z",
     "iopub.status.idle": "2022-05-22T11:32:40.169237Z",
     "shell.execute_reply": "2022-05-22T11:32:40.168103Z",
     "shell.execute_reply.started": "2022-05-22T11:32:40.161999Z"
    },
    "tags": []
   },
   "outputs": [],
   "source": [
    "from tensorflow.keras.models import Sequential\n",
    "from tensorflow.keras.layers import Conv2D, Dense, Flatten"
   ]
  },
  {
   "cell_type": "markdown",
   "id": "ea988b1b-9969-4b92-a3dc-a40ecdd839c4",
   "metadata": {},
   "source": [
    "#### 7.2 Build sequential model, compile and view summary"
   ]
  },
  {
   "cell_type": "code",
   "execution_count": 425,
   "id": "9d4f7b60-ee8e-4531-840a-bf7d5849f20b",
   "metadata": {
    "execution": {
     "iopub.execute_input": "2022-05-22T11:35:45.930899Z",
     "iopub.status.busy": "2022-05-22T11:35:45.930383Z",
     "iopub.status.idle": "2022-05-22T11:35:46.062497Z",
     "shell.execute_reply": "2022-05-22T11:35:46.061910Z",
     "shell.execute_reply.started": "2022-05-22T11:35:45.930845Z"
    },
    "tags": []
   },
   "outputs": [],
   "source": [
    "# Define sequential model\n",
    "model = Sequential()\n",
    "# Add convolutional layers:\n",
    "## See explanation around 46:00-48:00. Read up on convolutional layers \n",
    "model.add(Conv2D(16,(3,3), activation='relu', input_shape=(178, 257, 1)))\n",
    "model.add(Conv2D(16,(3,3), activation='relu'))\n",
    "## Flatten the layer into a single dimension:\n",
    "model.add(Flatten())\n",
    "model.add(Dense(128, activation='relu'))\n",
    "model.add(Dense(1,activation='sigmoid'))"
   ]
  },
  {
   "cell_type": "code",
   "execution_count": 426,
   "id": "400dbd7a-ab12-420b-9f33-1fe519db313b",
   "metadata": {
    "execution": {
     "iopub.execute_input": "2022-05-22T11:35:48.757773Z",
     "iopub.status.busy": "2022-05-22T11:35:48.757251Z",
     "iopub.status.idle": "2022-05-22T11:35:48.778891Z",
     "shell.execute_reply": "2022-05-22T11:35:48.777763Z",
     "shell.execute_reply.started": "2022-05-22T11:35:48.757717Z"
    },
    "tags": []
   },
   "outputs": [],
   "source": [
    "# Compile the model\n",
    "model.compile('Adam', loss = 'BinaryCrossentropy', metrics=[tf.keras.metrics.Recall(),tf.keras.metrics.Precision()])"
   ]
  },
  {
   "cell_type": "code",
   "execution_count": 427,
   "id": "48d8f957-8309-49ac-afb4-a2a73d76d6a5",
   "metadata": {
    "execution": {
     "iopub.execute_input": "2022-05-22T11:35:49.938238Z",
     "iopub.status.busy": "2022-05-22T11:35:49.937770Z",
     "iopub.status.idle": "2022-05-22T11:35:49.960853Z",
     "shell.execute_reply": "2022-05-22T11:35:49.960084Z",
     "shell.execute_reply.started": "2022-05-22T11:35:49.938184Z"
    },
    "tags": []
   },
   "outputs": [
    {
     "name": "stdout",
     "output_type": "stream",
     "text": [
      "Model: \"sequential_4\"\n",
      "_________________________________________________________________\n",
      " Layer (type)                Output Shape              Param #   \n",
      "=================================================================\n",
      " conv2d_8 (Conv2D)           (None, 176, 255, 16)      160       \n",
      "                                                                 \n",
      " conv2d_9 (Conv2D)           (None, 174, 253, 16)      2320      \n",
      "                                                                 \n",
      " flatten_4 (Flatten)         (None, 704352)            0         \n",
      "                                                                 \n",
      " dense_8 (Dense)             (None, 128)               90157184  \n",
      "                                                                 \n",
      " dense_9 (Dense)             (None, 1)                 129       \n",
      "                                                                 \n",
      "=================================================================\n",
      "Total params: 90,159,793\n",
      "Trainable params: 90,159,793\n",
      "Non-trainable params: 0\n",
      "_________________________________________________________________\n"
     ]
    }
   ],
   "source": [
    "# Let's have a look at the model\n",
    "model.summary()"
   ]
  },
  {
   "cell_type": "markdown",
   "id": "ae0f4e03-923f-45c7-ae73-112654effc3d",
   "metadata": {
    "execution": {
     "iopub.execute_input": "2022-05-15T09:49:28.723232Z",
     "iopub.status.busy": "2022-05-15T09:49:28.722675Z",
     "iopub.status.idle": "2022-05-15T09:49:28.798555Z",
     "shell.execute_reply": "2022-05-15T09:49:28.797601Z",
     "shell.execute_reply.started": "2022-05-15T09:49:28.723185Z"
    },
    "tags": []
   },
   "source": [
    "#### 7.3 Fit model, view loss and KPI plots\n",
    "\n",
    "Let's train the model"
   ]
  },
  {
   "cell_type": "code",
   "execution_count": 428,
   "id": "309f75f2-9180-459f-8d79-057ef0b2d607",
   "metadata": {
    "execution": {
     "iopub.execute_input": "2022-05-22T11:35:52.675710Z",
     "iopub.status.busy": "2022-05-22T11:35:52.675191Z",
     "iopub.status.idle": "2022-05-22T11:35:59.573770Z",
     "shell.execute_reply": "2022-05-22T11:35:59.572398Z",
     "shell.execute_reply.started": "2022-05-22T11:35:52.675655Z"
    },
    "tags": []
   },
   "outputs": [
    {
     "name": "stdout",
     "output_type": "stream",
     "text": [
      "Epoch 1/4\n",
      "5/5 [==============================] - 2s 372ms/step - loss: 1.9598 - recall_4: 0.5833 - precision_4: 0.4375 - val_loss: 0.9181 - val_recall_4: 1.0000 - val_precision_4: 0.4545\n",
      "Epoch 2/4\n",
      "5/5 [==============================] - 1s 295ms/step - loss: 0.8409 - recall_4: 1.0000 - precision_4: 0.4375 - val_loss: 0.6916 - val_recall_4: 1.0000 - val_precision_4: 0.5455\n",
      "Epoch 3/4\n",
      "5/5 [==============================] - 2s 321ms/step - loss: 0.6944 - recall_4: 0.1562 - precision_4: 0.3125 - val_loss: 0.6927 - val_recall_4: 0.0000e+00 - val_precision_4: 0.0000e+00\n",
      "Epoch 4/4\n",
      "5/5 [==============================] - 1s 300ms/step - loss: 0.6810 - recall_4: 0.0000e+00 - precision_4: 0.0000e+00 - val_loss: 0.8318 - val_recall_4: 0.0000e+00 - val_precision_4: 0.0000e+00\n"
     ]
    }
   ],
   "source": [
    "# specifying we want to train for 4 epochs (???)\n",
    "hist = model.fit(train, epochs=4, validation_data=test)"
   ]
  },
  {
   "cell_type": "code",
   "execution_count": 430,
   "id": "cc073d54-9c80-4dde-a19b-c169da71987e",
   "metadata": {
    "execution": {
     "iopub.execute_input": "2022-05-22T11:36:11.238347Z",
     "iopub.status.busy": "2022-05-22T11:36:11.237879Z",
     "iopub.status.idle": "2022-05-22T11:36:11.335874Z",
     "shell.execute_reply": "2022-05-22T11:36:11.335258Z",
     "shell.execute_reply.started": "2022-05-22T11:36:11.238294Z"
    },
    "tags": []
   },
   "outputs": [
    {
     "data": {
      "image/png": "[encoded data removed]",
      "text/plain": [
       "<Figure size 432x288 with 1 Axes>"
      ]
     },
     "metadata": {
      "needs_background": "light"
     },
     "output_type": "display_data"
    }
   ],
   "source": [
    "plt.title('Loss')\n",
    "plt.plot(hist.history['loss'],'r')\n",
    "plt.plot(hist.history['val_loss'], 'b')\n",
    "plt.show()"
   ]
  },
  {
   "cell_type": "code",
   "execution_count": 432,
   "id": "ff7cd65e-cc33-49fc-90c1-94ddf10fb8e4",
   "metadata": {
    "execution": {
     "iopub.execute_input": "2022-05-22T11:36:32.371730Z",
     "iopub.status.busy": "2022-05-22T11:36:32.371212Z",
     "iopub.status.idle": "2022-05-22T11:36:32.468332Z",
     "shell.execute_reply": "2022-05-22T11:36:32.467723Z",
     "shell.execute_reply.started": "2022-05-22T11:36:32.371672Z"
    },
    "tags": []
   },
   "outputs": [
    {
     "data": {
      "image/png": "[encoded data removed]",
      "text/plain": [
       "<Figure size 432x288 with 1 Axes>"
      ]
     },
     "metadata": {
      "needs_background": "light"
     },
     "output_type": "display_data"
    }
   ],
   "source": [
    "plt.title('Precision')\n",
    "plt.plot(hist.history['precision_4'], 'r')\n",
    "plt.plot(hist.history['val_precision_4'], 'b')\n",
    "plt.show()"
   ]
  },
  {
   "cell_type": "code",
   "execution_count": 322,
   "id": "9b45ba50-7783-4793-8283-c9c59f1ae430",
   "metadata": {
    "execution": {
     "iopub.execute_input": "2022-05-22T10:56:56.717206Z",
     "iopub.status.busy": "2022-05-22T10:56:56.716702Z",
     "iopub.status.idle": "2022-05-22T10:56:56.810755Z",
     "shell.execute_reply": "2022-05-22T10:56:56.810170Z",
     "shell.execute_reply.started": "2022-05-22T10:56:56.717152Z"
    },
    "tags": []
   },
   "outputs": [
    {
     "data": {
      "image/png": "[encoded data removed]",
      "text/plain": [
       "<Figure size 432x288 with 1 Axes>"
      ]
     },
     "metadata": {
      "needs_background": "light"
     },
     "output_type": "display_data"
    }
   ],
   "source": [
    "plt.title('Recall')\n",
    "plt.plot(hist.history['recall_2'], 'r')\n",
    "plt.plot(hist.history['val_recall_2'], 'g')\n",
    "plt.show()"
   ]
  },
  {
   "cell_type": "code",
   "execution_count": 433,
   "id": "c4784c93-4ca8-40ea-aa2e-e40b61fd57b6",
   "metadata": {
    "execution": {
     "iopub.execute_input": "2022-05-22T11:38:02.727871Z",
     "iopub.status.busy": "2022-05-22T11:38:02.727358Z",
     "iopub.status.idle": "2022-05-22T11:38:02.736623Z",
     "shell.execute_reply": "2022-05-22T11:38:02.735458Z",
     "shell.execute_reply.started": "2022-05-22T11:38:02.727814Z"
    },
    "tags": []
   },
   "outputs": [
    {
     "data": {
      "text/plain": [
       "<keras.callbacks.History at 0x7f795827ffa0>"
      ]
     },
     "execution_count": 433,
     "metadata": {},
     "output_type": "execute_result"
    }
   ],
   "source": [
    "hist"
   ]
  },
  {
   "cell_type": "code",
   "execution_count": 434,
   "id": "4d8143d0-5e2e-44c5-8555-488608f10e70",
   "metadata": {
    "execution": {
     "iopub.execute_input": "2022-05-22T11:38:03.078053Z",
     "iopub.status.busy": "2022-05-22T11:38:03.077626Z",
     "iopub.status.idle": "2022-05-22T11:38:03.087708Z",
     "shell.execute_reply": "2022-05-22T11:38:03.086393Z",
     "shell.execute_reply.started": "2022-05-22T11:38:03.078003Z"
    },
    "tags": []
   },
   "outputs": [
    {
     "data": {
      "text/plain": [
       "{'loss': [1.9597917795181274,\n",
       "  0.8409002423286438,\n",
       "  0.6944102048873901,\n",
       "  0.6809757947921753],\n",
       " 'recall_4': [0.5833333134651184, 1.0, 0.15625, 0.0],\n",
       " 'precision_4': [0.4375, 0.4375, 0.3125, 0.0],\n",
       " 'val_loss': [0.918110728263855,\n",
       "  0.6916300058364868,\n",
       "  0.6927379369735718,\n",
       "  0.8318132162094116],\n",
       " 'val_recall_4': [1.0, 1.0, 0.0, 0.0],\n",
       " 'val_precision_4': [0.4545454680919647, 0.5454545617103577, 0.0, 0.0]}"
      ]
     },
     "execution_count": 434,
     "metadata": {},
     "output_type": "execute_result"
    }
   ],
   "source": [
    "hist.history"
   ]
  },
  {
   "cell_type": "code",
   "execution_count": 435,
   "id": "867ad389-13f0-4bde-bba7-a3d1500d4111",
   "metadata": {
    "execution": {
     "iopub.execute_input": "2022-05-22T11:38:21.422637Z",
     "iopub.status.busy": "2022-05-22T11:38:21.422332Z",
     "iopub.status.idle": "2022-05-22T11:38:21.429367Z",
     "shell.execute_reply": "2022-05-22T11:38:21.428553Z",
     "shell.execute_reply.started": "2022-05-22T11:38:21.422608Z"
    },
    "tags": []
   },
   "outputs": [
    {
     "data": {
      "text/plain": [
       "[1.9597917795181274,\n",
       " 0.8409002423286438,\n",
       " 0.6944102048873901,\n",
       " 0.6809757947921753]"
      ]
     },
     "execution_count": 435,
     "metadata": {},
     "output_type": "execute_result"
    }
   ],
   "source": [
    "hist.history['loss']"
   ]
  },
  {
   "cell_type": "markdown",
   "id": "c03790a2-08b5-4c2c-a26d-992b89877485",
   "metadata": {},
   "source": [
    "### 8. Make a prediction on a single clip\n",
    "\n",
    "#### 8.1 Get one batch and make a prediction"
   ]
  },
  {
   "cell_type": "code",
   "execution_count": 436,
   "id": "2727add5-3942-42af-9fd8-b9224fc714be",
   "metadata": {
    "execution": {
     "iopub.execute_input": "2022-05-22T11:38:28.937724Z",
     "iopub.status.busy": "2022-05-22T11:38:28.937204Z",
     "iopub.status.idle": "2022-05-22T11:38:28.980839Z",
     "shell.execute_reply": "2022-05-22T11:38:28.979223Z",
     "shell.execute_reply.started": "2022-05-22T11:38:28.937668Z"
    },
    "tags": []
   },
   "outputs": [
    {
     "data": {
      "text/plain": [
       "(array([[[[0.0000000e+00],\n",
       "          [0.0000000e+00],\n",
       "          [0.0000000e+00],\n",
       "          ...,\n",
       "          [0.0000000e+00],\n",
       "          [0.0000000e+00],\n",
       "          [0.0000000e+00]],\n",
       " \n",
       "         [[0.0000000e+00],\n",
       "          [0.0000000e+00],\n",
       "          [0.0000000e+00],\n",
       "          ...,\n",
       "          [0.0000000e+00],\n",
       "          [0.0000000e+00],\n",
       "          [0.0000000e+00]],\n",
       " \n",
       "         [[0.0000000e+00],\n",
       "          [0.0000000e+00],\n",
       "          [0.0000000e+00],\n",
       "          ...,\n",
       "          [0.0000000e+00],\n",
       "          [0.0000000e+00],\n",
       "          [0.0000000e+00]],\n",
       " \n",
       "         ...,\n",
       " \n",
       "         [[6.9549493e-03],\n",
       "          [9.5476564e-03],\n",
       "          [6.7906789e-03],\n",
       "          ...,\n",
       "          [4.9549294e-07],\n",
       "          [8.5161810e-07],\n",
       "          [1.0214280e-06]],\n",
       " \n",
       "         [[1.9844603e-02],\n",
       "          [4.5328066e-03],\n",
       "          [1.3793848e-02],\n",
       "          ...,\n",
       "          [6.0347207e-07],\n",
       "          [6.8702371e-07],\n",
       "          [7.6275319e-07]],\n",
       " \n",
       "         [[2.2282466e-02],\n",
       "          [2.9318077e-02],\n",
       "          [1.5597770e-02],\n",
       "          ...,\n",
       "          [3.2361325e-07],\n",
       "          [4.0512532e-07],\n",
       "          [8.3073974e-07]]],\n",
       " \n",
       " \n",
       "        [[[0.0000000e+00],\n",
       "          [0.0000000e+00],\n",
       "          [0.0000000e+00],\n",
       "          ...,\n",
       "          [0.0000000e+00],\n",
       "          [0.0000000e+00],\n",
       "          [0.0000000e+00]],\n",
       " \n",
       "         [[0.0000000e+00],\n",
       "          [0.0000000e+00],\n",
       "          [0.0000000e+00],\n",
       "          ...,\n",
       "          [0.0000000e+00],\n",
       "          [0.0000000e+00],\n",
       "          [0.0000000e+00]],\n",
       " \n",
       "         [[0.0000000e+00],\n",
       "          [0.0000000e+00],\n",
       "          [0.0000000e+00],\n",
       "          ...,\n",
       "          [0.0000000e+00],\n",
       "          [0.0000000e+00],\n",
       "          [0.0000000e+00]],\n",
       " \n",
       "         ...,\n",
       " \n",
       "         [[6.9549493e-03],\n",
       "          [9.5476564e-03],\n",
       "          [6.7906789e-03],\n",
       "          ...,\n",
       "          [4.9549294e-07],\n",
       "          [8.5161810e-07],\n",
       "          [1.0214280e-06]],\n",
       " \n",
       "         [[1.9844603e-02],\n",
       "          [4.5328066e-03],\n",
       "          [1.3793848e-02],\n",
       "          ...,\n",
       "          [6.0347207e-07],\n",
       "          [6.8702371e-07],\n",
       "          [7.6275319e-07]],\n",
       " \n",
       "         [[2.2282466e-02],\n",
       "          [2.9318077e-02],\n",
       "          [1.5597770e-02],\n",
       "          ...,\n",
       "          [3.2361325e-07],\n",
       "          [4.0512532e-07],\n",
       "          [8.3073974e-07]]],\n",
       " \n",
       " \n",
       "        [[[0.0000000e+00],\n",
       "          [0.0000000e+00],\n",
       "          [0.0000000e+00],\n",
       "          ...,\n",
       "          [0.0000000e+00],\n",
       "          [0.0000000e+00],\n",
       "          [0.0000000e+00]],\n",
       " \n",
       "         [[0.0000000e+00],\n",
       "          [0.0000000e+00],\n",
       "          [0.0000000e+00],\n",
       "          ...,\n",
       "          [0.0000000e+00],\n",
       "          [0.0000000e+00],\n",
       "          [0.0000000e+00]],\n",
       " \n",
       "         [[0.0000000e+00],\n",
       "          [0.0000000e+00],\n",
       "          [0.0000000e+00],\n",
       "          ...,\n",
       "          [0.0000000e+00],\n",
       "          [0.0000000e+00],\n",
       "          [0.0000000e+00]],\n",
       " \n",
       "         ...,\n",
       " \n",
       "         [[6.9549493e-03],\n",
       "          [9.5476564e-03],\n",
       "          [6.7906789e-03],\n",
       "          ...,\n",
       "          [4.9549294e-07],\n",
       "          [8.5161810e-07],\n",
       "          [1.0214280e-06]],\n",
       " \n",
       "         [[1.9844603e-02],\n",
       "          [4.5328066e-03],\n",
       "          [1.3793848e-02],\n",
       "          ...,\n",
       "          [6.0347207e-07],\n",
       "          [6.8702371e-07],\n",
       "          [7.6275319e-07]],\n",
       " \n",
       "         [[2.2282466e-02],\n",
       "          [2.9318077e-02],\n",
       "          [1.5597770e-02],\n",
       "          ...,\n",
       "          [3.2361325e-07],\n",
       "          [4.0512532e-07],\n",
       "          [8.3073974e-07]]],\n",
       " \n",
       " \n",
       "        ...,\n",
       " \n",
       " \n",
       "        [[[0.0000000e+00],\n",
       "          [0.0000000e+00],\n",
       "          [0.0000000e+00],\n",
       "          ...,\n",
       "          [0.0000000e+00],\n",
       "          [0.0000000e+00],\n",
       "          [0.0000000e+00]],\n",
       " \n",
       "         [[0.0000000e+00],\n",
       "          [0.0000000e+00],\n",
       "          [0.0000000e+00],\n",
       "          ...,\n",
       "          [0.0000000e+00],\n",
       "          [0.0000000e+00],\n",
       "          [0.0000000e+00]],\n",
       " \n",
       "         [[0.0000000e+00],\n",
       "          [0.0000000e+00],\n",
       "          [0.0000000e+00],\n",
       "          ...,\n",
       "          [0.0000000e+00],\n",
       "          [0.0000000e+00],\n",
       "          [0.0000000e+00]],\n",
       " \n",
       "         ...,\n",
       " \n",
       "         [[6.9549493e-03],\n",
       "          [9.5476564e-03],\n",
       "          [6.7906789e-03],\n",
       "          ...,\n",
       "          [4.9549294e-07],\n",
       "          [8.5161810e-07],\n",
       "          [1.0214280e-06]],\n",
       " \n",
       "         [[1.9844603e-02],\n",
       "          [4.5328066e-03],\n",
       "          [1.3793848e-02],\n",
       "          ...,\n",
       "          [6.0347207e-07],\n",
       "          [6.8702371e-07],\n",
       "          [7.6275319e-07]],\n",
       " \n",
       "         [[2.2282466e-02],\n",
       "          [2.9318077e-02],\n",
       "          [1.5597770e-02],\n",
       "          ...,\n",
       "          [3.2361325e-07],\n",
       "          [4.0512532e-07],\n",
       "          [8.3073974e-07]]],\n",
       " \n",
       " \n",
       "        [[[0.0000000e+00],\n",
       "          [0.0000000e+00],\n",
       "          [0.0000000e+00],\n",
       "          ...,\n",
       "          [0.0000000e+00],\n",
       "          [0.0000000e+00],\n",
       "          [0.0000000e+00]],\n",
       " \n",
       "         [[0.0000000e+00],\n",
       "          [0.0000000e+00],\n",
       "          [0.0000000e+00],\n",
       "          ...,\n",
       "          [0.0000000e+00],\n",
       "          [0.0000000e+00],\n",
       "          [0.0000000e+00]],\n",
       " \n",
       "         [[0.0000000e+00],\n",
       "          [0.0000000e+00],\n",
       "          [0.0000000e+00],\n",
       "          ...,\n",
       "          [0.0000000e+00],\n",
       "          [0.0000000e+00],\n",
       "          [0.0000000e+00]],\n",
       " \n",
       "         ...,\n",
       " \n",
       "         [[6.9549493e-03],\n",
       "          [9.5476564e-03],\n",
       "          [6.7906789e-03],\n",
       "          ...,\n",
       "          [4.9549294e-07],\n",
       "          [8.5161810e-07],\n",
       "          [1.0214280e-06]],\n",
       " \n",
       "         [[1.9844603e-02],\n",
       "          [4.5328066e-03],\n",
       "          [1.3793848e-02],\n",
       "          ...,\n",
       "          [6.0347207e-07],\n",
       "          [6.8702371e-07],\n",
       "          [7.6275319e-07]],\n",
       " \n",
       "         [[2.2282466e-02],\n",
       "          [2.9318077e-02],\n",
       "          [1.5597770e-02],\n",
       "          ...,\n",
       "          [3.2361325e-07],\n",
       "          [4.0512532e-07],\n",
       "          [8.3073974e-07]]],\n",
       " \n",
       " \n",
       "        [[[0.0000000e+00],\n",
       "          [0.0000000e+00],\n",
       "          [0.0000000e+00],\n",
       "          ...,\n",
       "          [0.0000000e+00],\n",
       "          [0.0000000e+00],\n",
       "          [0.0000000e+00]],\n",
       " \n",
       "         [[0.0000000e+00],\n",
       "          [0.0000000e+00],\n",
       "          [0.0000000e+00],\n",
       "          ...,\n",
       "          [0.0000000e+00],\n",
       "          [0.0000000e+00],\n",
       "          [0.0000000e+00]],\n",
       " \n",
       "         [[0.0000000e+00],\n",
       "          [0.0000000e+00],\n",
       "          [0.0000000e+00],\n",
       "          ...,\n",
       "          [0.0000000e+00],\n",
       "          [0.0000000e+00],\n",
       "          [0.0000000e+00]],\n",
       " \n",
       "         ...,\n",
       " \n",
       "         [[6.9549493e-03],\n",
       "          [9.5476564e-03],\n",
       "          [6.7906789e-03],\n",
       "          ...,\n",
       "          [4.9549294e-07],\n",
       "          [8.5161810e-07],\n",
       "          [1.0214280e-06]],\n",
       " \n",
       "         [[1.9844603e-02],\n",
       "          [4.5328066e-03],\n",
       "          [1.3793848e-02],\n",
       "          ...,\n",
       "          [6.0347207e-07],\n",
       "          [6.8702371e-07],\n",
       "          [7.6275319e-07]],\n",
       " \n",
       "         [[2.2282466e-02],\n",
       "          [2.9318077e-02],\n",
       "          [1.5597770e-02],\n",
       "          ...,\n",
       "          [3.2361325e-07],\n",
       "          [4.0512532e-07],\n",
       "          [8.3073974e-07]]]], dtype=float32),\n",
       " array([1., 0., 0., 0., 0., 1., 1., 1., 0., 0., 0., 1., 0., 1., 0., 0.],\n",
       "       dtype=float32))"
      ]
     },
     "execution_count": 436,
     "metadata": {},
     "output_type": "execute_result"
    }
   ],
   "source": [
    "X_test, Y_test = test.as_numpy_iterator().next()\n",
    "X_test, Y_test"
   ]
  },
  {
   "cell_type": "code",
   "execution_count": 437,
   "id": "89374d93-1a91-4ad8-a8a8-507f24f2b815",
   "metadata": {
    "execution": {
     "iopub.execute_input": "2022-05-22T11:38:42.849792Z",
     "iopub.status.busy": "2022-05-22T11:38:42.849204Z",
     "iopub.status.idle": "2022-05-22T11:38:42.859518Z",
     "shell.execute_reply": "2022-05-22T11:38:42.858247Z",
     "shell.execute_reply.started": "2022-05-22T11:38:42.849732Z"
    },
    "tags": []
   },
   "outputs": [
    {
     "data": {
      "text/plain": [
       "(16,)"
      ]
     },
     "execution_count": 437,
     "metadata": {},
     "output_type": "execute_result"
    }
   ],
   "source": [
    "Y_test.shape"
   ]
  },
  {
   "cell_type": "code",
   "execution_count": 438,
   "id": "a975f856-d88e-4ab8-b5c6-667cb20dccb8",
   "metadata": {
    "execution": {
     "iopub.execute_input": "2022-05-22T11:38:45.232884Z",
     "iopub.status.busy": "2022-05-22T11:38:45.232303Z",
     "iopub.status.idle": "2022-05-22T11:38:45.362702Z",
     "shell.execute_reply": "2022-05-22T11:38:45.361925Z",
     "shell.execute_reply.started": "2022-05-22T11:38:45.232821Z"
    },
    "tags": []
   },
   "outputs": [
    {
     "name": "stdout",
     "output_type": "stream",
     "text": [
      "1/1 [==============================] - 0s 88ms/step\n"
     ]
    }
   ],
   "source": [
    "yhat = model.predict(X_test)"
   ]
  },
  {
   "cell_type": "code",
   "execution_count": 439,
   "id": "fa07718c-c236-43fe-891e-2caf1420f95a",
   "metadata": {
    "execution": {
     "iopub.execute_input": "2022-05-22T11:38:46.426600Z",
     "iopub.status.busy": "2022-05-22T11:38:46.426100Z",
     "iopub.status.idle": "2022-05-22T11:38:46.437415Z",
     "shell.execute_reply": "2022-05-22T11:38:46.435890Z",
     "shell.execute_reply.started": "2022-05-22T11:38:46.426541Z"
    },
    "tags": []
   },
   "outputs": [
    {
     "data": {
      "text/plain": [
       "array([[0.32829946],\n",
       "       [0.32829946],\n",
       "       [0.32829946],\n",
       "       [0.32829946],\n",
       "       [0.32829946],\n",
       "       [0.32829946],\n",
       "       [0.32829946],\n",
       "       [0.32829946],\n",
       "       [0.32829946],\n",
       "       [0.32829946],\n",
       "       [0.32829946],\n",
       "       [0.32829946],\n",
       "       [0.32829946],\n",
       "       [0.32829946],\n",
       "       [0.32829946],\n",
       "       [0.32829946]], dtype=float32)"
      ]
     },
     "execution_count": 439,
     "metadata": {},
     "output_type": "execute_result"
    }
   ],
   "source": [
    "yhat"
   ]
  },
  {
   "cell_type": "code",
   "execution_count": 440,
   "id": "461bce5e-8b1a-401b-8c8b-33b13d526e59",
   "metadata": {
    "execution": {
     "iopub.execute_input": "2022-05-22T11:38:51.456655Z",
     "iopub.status.busy": "2022-05-22T11:38:51.456110Z",
     "iopub.status.idle": "2022-05-22T11:38:51.464203Z",
     "shell.execute_reply": "2022-05-22T11:38:51.462750Z",
     "shell.execute_reply.started": "2022-05-22T11:38:51.456596Z"
    },
    "tags": []
   },
   "outputs": [],
   "source": [
    "yhat = [1 if prediction > 0.5 else 0 for prediction in yhat]"
   ]
  },
  {
   "cell_type": "code",
   "execution_count": 441,
   "id": "eb4a6d9d-6419-46fe-8ab8-1b33fb1cb245",
   "metadata": {
    "execution": {
     "iopub.execute_input": "2022-05-22T11:38:51.757275Z",
     "iopub.status.busy": "2022-05-22T11:38:51.756825Z",
     "iopub.status.idle": "2022-05-22T11:38:52.017536Z",
     "shell.execute_reply": "2022-05-22T11:38:52.016164Z",
     "shell.execute_reply.started": "2022-05-22T11:38:51.757223Z"
    },
    "tags": []
   },
   "outputs": [
    {
     "data": {
      "text/plain": [
       "[0, 0, 0, 0, 0, 0, 0, 0, 0, 0, 0, 0, 0, 0, 0, 0]"
      ]
     },
     "execution_count": 441,
     "metadata": {},
     "output_type": "execute_result"
    }
   ],
   "source": [
    "yhat"
   ]
  },
  {
   "cell_type": "code",
   "execution_count": 442,
   "id": "8011a971-434c-432b-a51f-4d509ef7a2db",
   "metadata": {
    "execution": {
     "iopub.execute_input": "2022-05-22T11:38:53.062646Z",
     "iopub.status.busy": "2022-05-22T11:38:53.062118Z",
     "iopub.status.idle": "2022-05-22T11:38:53.074180Z",
     "shell.execute_reply": "2022-05-22T11:38:53.072999Z",
     "shell.execute_reply.started": "2022-05-22T11:38:53.062589Z"
    },
    "tags": []
   },
   "outputs": [
    {
     "data": {
      "text/plain": [
       "<tf.Tensor: shape=(), dtype=int32, numpy=0>"
      ]
     },
     "execution_count": 442,
     "metadata": {},
     "output_type": "execute_result"
    }
   ],
   "source": [
    "tf.math.reduce_sum(yhat)"
   ]
  },
  {
   "cell_type": "code",
   "execution_count": 443,
   "id": "27c7ce25-7bed-4523-a441-ee357e07ac12",
   "metadata": {
    "execution": {
     "iopub.execute_input": "2022-05-22T11:38:53.640161Z",
     "iopub.status.busy": "2022-05-22T11:38:53.639704Z",
     "iopub.status.idle": "2022-05-22T11:38:53.650830Z",
     "shell.execute_reply": "2022-05-22T11:38:53.649522Z",
     "shell.execute_reply.started": "2022-05-22T11:38:53.640109Z"
    },
    "tags": []
   },
   "outputs": [
    {
     "data": {
      "text/plain": [
       "<tf.Tensor: shape=(), dtype=float32, numpy=6.0>"
      ]
     },
     "execution_count": 443,
     "metadata": {},
     "output_type": "execute_result"
    }
   ],
   "source": [
    "tf.math.reduce_sum(Y_test)"
   ]
  },
  {
   "cell_type": "code",
   "execution_count": 444,
   "id": "6cf883db-5af9-437f-ada2-259f8ef7a70c",
   "metadata": {
    "execution": {
     "iopub.execute_input": "2022-05-22T11:38:54.103103Z",
     "iopub.status.busy": "2022-05-22T11:38:54.102659Z",
     "iopub.status.idle": "2022-05-22T11:38:54.112521Z",
     "shell.execute_reply": "2022-05-22T11:38:54.110995Z",
     "shell.execute_reply.started": "2022-05-22T11:38:54.103051Z"
    },
    "tags": []
   },
   "outputs": [
    {
     "data": {
      "text/plain": [
       "array([1, 0, 0, 0, 0, 1, 1, 1, 0, 0, 0, 1, 0, 1, 0, 0])"
      ]
     },
     "execution_count": 444,
     "metadata": {},
     "output_type": "execute_result"
    }
   ],
   "source": [
    "Y_test.astype(int)"
   ]
  },
  {
   "cell_type": "code",
   "execution_count": null,
   "id": "4e281296-91f6-4cdd-bc50-e4b99fe57ed2",
   "metadata": {},
   "outputs": [],
   "source": []
  }
 ],
 "metadata": {
  "kernelspec": {
   "display_name": "Python 3 ",
   "language": "python",
   "name": "python3"
  },
  "language_info": {
   "codemirror_mode": {
    "name": "ipython",
    "version": 3
   },
   "file_extension": ".py",
   "mimetype": "text/x-python",
   "name": "python",
   "nbconvert_exporter": "python",
   "pygments_lexer": "ipython3",
   "version": "3.9.10"
  }
 },
 "nbformat": 4,
 "nbformat_minor": 5
}
